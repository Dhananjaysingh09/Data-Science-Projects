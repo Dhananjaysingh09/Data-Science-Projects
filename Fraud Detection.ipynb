{
 "cells": [
  {
   "cell_type": "code",
   "execution_count": 137,
   "id": "d5ce86c1",
   "metadata": {},
   "outputs": [],
   "source": [
    "import numpy as np \n",
    "import pandas as pd \n",
    "import matplotlib.pyplot as plt \n",
    "import seaborn as sns \n",
    "import warnings\n",
    "from sklearn.exceptions import DataConversionWarning\n",
    "# Filter out warnings from sklearn and scipy\n",
    "warnings.filterwarnings(\"ignore\", category=DataConversionWarning)\n",
    "warnings.filterwarnings(\"ignore\", category=FutureWarning)"
   ]
  },
  {
   "cell_type": "code",
   "execution_count": 138,
   "id": "585d5f07",
   "metadata": {},
   "outputs": [],
   "source": [
    "df = pd.read_csv('Fraud.csv')"
   ]
  },
  {
   "cell_type": "code",
   "execution_count": 139,
   "id": "81421851",
   "metadata": {},
   "outputs": [
    {
     "data": {
      "text/html": [
       "<div>\n",
       "<style scoped>\n",
       "    .dataframe tbody tr th:only-of-type {\n",
       "        vertical-align: middle;\n",
       "    }\n",
       "\n",
       "    .dataframe tbody tr th {\n",
       "        vertical-align: top;\n",
       "    }\n",
       "\n",
       "    .dataframe thead th {\n",
       "        text-align: right;\n",
       "    }\n",
       "</style>\n",
       "<table border=\"1\" class=\"dataframe\">\n",
       "  <thead>\n",
       "    <tr style=\"text-align: right;\">\n",
       "      <th></th>\n",
       "      <th>step</th>\n",
       "      <th>type</th>\n",
       "      <th>amount</th>\n",
       "      <th>nameOrig</th>\n",
       "      <th>oldbalanceOrg</th>\n",
       "      <th>newbalanceOrig</th>\n",
       "      <th>nameDest</th>\n",
       "      <th>oldbalanceDest</th>\n",
       "      <th>newbalanceDest</th>\n",
       "      <th>isFraud</th>\n",
       "      <th>isFlaggedFraud</th>\n",
       "    </tr>\n",
       "  </thead>\n",
       "  <tbody>\n",
       "    <tr>\n",
       "      <th>0</th>\n",
       "      <td>1</td>\n",
       "      <td>PAYMENT</td>\n",
       "      <td>9839.64</td>\n",
       "      <td>C1231006815</td>\n",
       "      <td>170136.0</td>\n",
       "      <td>160296.36</td>\n",
       "      <td>M1979787155</td>\n",
       "      <td>0.0</td>\n",
       "      <td>0.0</td>\n",
       "      <td>0</td>\n",
       "      <td>0</td>\n",
       "    </tr>\n",
       "    <tr>\n",
       "      <th>1</th>\n",
       "      <td>1</td>\n",
       "      <td>PAYMENT</td>\n",
       "      <td>1864.28</td>\n",
       "      <td>C1666544295</td>\n",
       "      <td>21249.0</td>\n",
       "      <td>19384.72</td>\n",
       "      <td>M2044282225</td>\n",
       "      <td>0.0</td>\n",
       "      <td>0.0</td>\n",
       "      <td>0</td>\n",
       "      <td>0</td>\n",
       "    </tr>\n",
       "    <tr>\n",
       "      <th>2</th>\n",
       "      <td>1</td>\n",
       "      <td>TRANSFER</td>\n",
       "      <td>181.00</td>\n",
       "      <td>C1305486145</td>\n",
       "      <td>181.0</td>\n",
       "      <td>0.00</td>\n",
       "      <td>C553264065</td>\n",
       "      <td>0.0</td>\n",
       "      <td>0.0</td>\n",
       "      <td>1</td>\n",
       "      <td>0</td>\n",
       "    </tr>\n",
       "    <tr>\n",
       "      <th>3</th>\n",
       "      <td>1</td>\n",
       "      <td>CASH_OUT</td>\n",
       "      <td>181.00</td>\n",
       "      <td>C840083671</td>\n",
       "      <td>181.0</td>\n",
       "      <td>0.00</td>\n",
       "      <td>C38997010</td>\n",
       "      <td>21182.0</td>\n",
       "      <td>0.0</td>\n",
       "      <td>1</td>\n",
       "      <td>0</td>\n",
       "    </tr>\n",
       "    <tr>\n",
       "      <th>4</th>\n",
       "      <td>1</td>\n",
       "      <td>PAYMENT</td>\n",
       "      <td>11668.14</td>\n",
       "      <td>C2048537720</td>\n",
       "      <td>41554.0</td>\n",
       "      <td>29885.86</td>\n",
       "      <td>M1230701703</td>\n",
       "      <td>0.0</td>\n",
       "      <td>0.0</td>\n",
       "      <td>0</td>\n",
       "      <td>0</td>\n",
       "    </tr>\n",
       "  </tbody>\n",
       "</table>\n",
       "</div>"
      ],
      "text/plain": [
       "   step      type    amount     nameOrig  oldbalanceOrg  newbalanceOrig  \\\n",
       "0     1   PAYMENT   9839.64  C1231006815       170136.0       160296.36   \n",
       "1     1   PAYMENT   1864.28  C1666544295        21249.0        19384.72   \n",
       "2     1  TRANSFER    181.00  C1305486145          181.0            0.00   \n",
       "3     1  CASH_OUT    181.00   C840083671          181.0            0.00   \n",
       "4     1   PAYMENT  11668.14  C2048537720        41554.0        29885.86   \n",
       "\n",
       "      nameDest  oldbalanceDest  newbalanceDest  isFraud  isFlaggedFraud  \n",
       "0  M1979787155             0.0             0.0        0               0  \n",
       "1  M2044282225             0.0             0.0        0               0  \n",
       "2   C553264065             0.0             0.0        1               0  \n",
       "3    C38997010         21182.0             0.0        1               0  \n",
       "4  M1230701703             0.0             0.0        0               0  "
      ]
     },
     "execution_count": 139,
     "metadata": {},
     "output_type": "execute_result"
    }
   ],
   "source": [
    "df.head(5)"
   ]
  },
  {
   "cell_type": "markdown",
   "id": "b2d7f3b5",
   "metadata": {},
   "source": [
    "- we are going to drop step,nameOrig,nameDest columns because these columns is not contributing in Target Variable."
   ]
  },
  {
   "cell_type": "code",
   "execution_count": 140,
   "id": "68bf7dff",
   "metadata": {},
   "outputs": [],
   "source": [
    "# we know step, nameOrig , nameDest is not important so we are going to remove \n",
    "df = df.drop(columns=['step','nameOrig','nameDest'],axis=1)"
   ]
  },
  {
   "cell_type": "code",
   "execution_count": 141,
   "id": "aaf7a76d",
   "metadata": {},
   "outputs": [
    {
     "data": {
      "text/html": [
       "<div>\n",
       "<style scoped>\n",
       "    .dataframe tbody tr th:only-of-type {\n",
       "        vertical-align: middle;\n",
       "    }\n",
       "\n",
       "    .dataframe tbody tr th {\n",
       "        vertical-align: top;\n",
       "    }\n",
       "\n",
       "    .dataframe thead th {\n",
       "        text-align: right;\n",
       "    }\n",
       "</style>\n",
       "<table border=\"1\" class=\"dataframe\">\n",
       "  <thead>\n",
       "    <tr style=\"text-align: right;\">\n",
       "      <th></th>\n",
       "      <th>type</th>\n",
       "      <th>amount</th>\n",
       "      <th>oldbalanceOrg</th>\n",
       "      <th>newbalanceOrig</th>\n",
       "      <th>oldbalanceDest</th>\n",
       "      <th>newbalanceDest</th>\n",
       "      <th>isFraud</th>\n",
       "      <th>isFlaggedFraud</th>\n",
       "    </tr>\n",
       "  </thead>\n",
       "  <tbody>\n",
       "    <tr>\n",
       "      <th>0</th>\n",
       "      <td>PAYMENT</td>\n",
       "      <td>9839.64</td>\n",
       "      <td>170136.0</td>\n",
       "      <td>160296.36</td>\n",
       "      <td>0.0</td>\n",
       "      <td>0.0</td>\n",
       "      <td>0</td>\n",
       "      <td>0</td>\n",
       "    </tr>\n",
       "    <tr>\n",
       "      <th>1</th>\n",
       "      <td>PAYMENT</td>\n",
       "      <td>1864.28</td>\n",
       "      <td>21249.0</td>\n",
       "      <td>19384.72</td>\n",
       "      <td>0.0</td>\n",
       "      <td>0.0</td>\n",
       "      <td>0</td>\n",
       "      <td>0</td>\n",
       "    </tr>\n",
       "    <tr>\n",
       "      <th>2</th>\n",
       "      <td>TRANSFER</td>\n",
       "      <td>181.00</td>\n",
       "      <td>181.0</td>\n",
       "      <td>0.00</td>\n",
       "      <td>0.0</td>\n",
       "      <td>0.0</td>\n",
       "      <td>1</td>\n",
       "      <td>0</td>\n",
       "    </tr>\n",
       "    <tr>\n",
       "      <th>3</th>\n",
       "      <td>CASH_OUT</td>\n",
       "      <td>181.00</td>\n",
       "      <td>181.0</td>\n",
       "      <td>0.00</td>\n",
       "      <td>21182.0</td>\n",
       "      <td>0.0</td>\n",
       "      <td>1</td>\n",
       "      <td>0</td>\n",
       "    </tr>\n",
       "    <tr>\n",
       "      <th>4</th>\n",
       "      <td>PAYMENT</td>\n",
       "      <td>11668.14</td>\n",
       "      <td>41554.0</td>\n",
       "      <td>29885.86</td>\n",
       "      <td>0.0</td>\n",
       "      <td>0.0</td>\n",
       "      <td>0</td>\n",
       "      <td>0</td>\n",
       "    </tr>\n",
       "  </tbody>\n",
       "</table>\n",
       "</div>"
      ],
      "text/plain": [
       "       type    amount  oldbalanceOrg  newbalanceOrig  oldbalanceDest  \\\n",
       "0   PAYMENT   9839.64       170136.0       160296.36             0.0   \n",
       "1   PAYMENT   1864.28        21249.0        19384.72             0.0   \n",
       "2  TRANSFER    181.00          181.0            0.00             0.0   \n",
       "3  CASH_OUT    181.00          181.0            0.00         21182.0   \n",
       "4   PAYMENT  11668.14        41554.0        29885.86             0.0   \n",
       "\n",
       "   newbalanceDest  isFraud  isFlaggedFraud  \n",
       "0             0.0        0               0  \n",
       "1             0.0        0               0  \n",
       "2             0.0        1               0  \n",
       "3             0.0        1               0  \n",
       "4             0.0        0               0  "
      ]
     },
     "execution_count": 141,
     "metadata": {},
     "output_type": "execute_result"
    }
   ],
   "source": [
    "df.head()"
   ]
  },
  {
   "cell_type": "code",
   "execution_count": 142,
   "id": "ab695fc0",
   "metadata": {},
   "outputs": [
    {
     "name": "stdout",
     "output_type": "stream",
     "text": [
      "<class 'pandas.core.frame.DataFrame'>\n",
      "RangeIndex: 6362620 entries, 0 to 6362619\n",
      "Data columns (total 8 columns):\n",
      " #   Column          Dtype  \n",
      "---  ------          -----  \n",
      " 0   type            object \n",
      " 1   amount          float64\n",
      " 2   oldbalanceOrg   float64\n",
      " 3   newbalanceOrig  float64\n",
      " 4   oldbalanceDest  float64\n",
      " 5   newbalanceDest  float64\n",
      " 6   isFraud         int64  \n",
      " 7   isFlaggedFraud  int64  \n",
      "dtypes: float64(5), int64(2), object(1)\n",
      "memory usage: 388.3+ MB\n"
     ]
    }
   ],
   "source": [
    "df.info()"
   ]
  },
  {
   "cell_type": "code",
   "execution_count": null,
   "id": "accf762b",
   "metadata": {},
   "outputs": [],
   "source": []
  },
  {
   "cell_type": "code",
   "execution_count": 143,
   "id": "59388c3b",
   "metadata": {},
   "outputs": [
    {
     "data": {
      "text/plain": [
       "type              0\n",
       "amount            0\n",
       "oldbalanceOrg     0\n",
       "newbalanceOrig    0\n",
       "oldbalanceDest    0\n",
       "newbalanceDest    0\n",
       "isFraud           0\n",
       "isFlaggedFraud    0\n",
       "dtype: int64"
      ]
     },
     "execution_count": 143,
     "metadata": {},
     "output_type": "execute_result"
    }
   ],
   "source": [
    "df.isnull().sum()"
   ]
  },
  {
   "cell_type": "markdown",
   "id": "4eb0e858",
   "metadata": {},
   "source": [
    "- Dataset is not contain Any Missing Value "
   ]
  },
  {
   "cell_type": "code",
   "execution_count": 144,
   "id": "e492a8aa",
   "metadata": {},
   "outputs": [
    {
     "data": {
      "text/plain": [
       "array(['PAYMENT', 'TRANSFER', 'CASH_OUT', 'DEBIT', 'CASH_IN'],\n",
       "      dtype=object)"
      ]
     },
     "execution_count": 144,
     "metadata": {},
     "output_type": "execute_result"
    }
   ],
   "source": [
    "df.type.unique()"
   ]
  },
  {
   "cell_type": "code",
   "execution_count": 145,
   "id": "13ebdd23",
   "metadata": {},
   "outputs": [
    {
     "data": {
      "text/plain": [
       "CASH_OUT    2237500\n",
       "PAYMENT     2151495\n",
       "CASH_IN     1399284\n",
       "TRANSFER     532909\n",
       "DEBIT         41432\n",
       "Name: type, dtype: int64"
      ]
     },
     "execution_count": 145,
     "metadata": {},
     "output_type": "execute_result"
    }
   ],
   "source": [
    "df.type.value_counts()"
   ]
  },
  {
   "cell_type": "markdown",
   "id": "dd918cbe",
   "metadata": {},
   "source": [
    "### Encoding \n",
    "- to convert text data into numeric data we have to Encoding\n",
    "- so Here I Apply One Hot Encoder"
   ]
  },
  {
   "cell_type": "code",
   "execution_count": 146,
   "id": "2653b0c4",
   "metadata": {},
   "outputs": [],
   "source": [
    "from sklearn.preprocessing import OneHotEncoder\n",
    "df = pd.get_dummies(df, columns=['type'],drop_first=True)"
   ]
  },
  {
   "cell_type": "code",
   "execution_count": 147,
   "id": "5e7d2e30",
   "metadata": {},
   "outputs": [
    {
     "data": {
      "text/plain": [
       "0    6354407\n",
       "1       8213\n",
       "Name: isFraud, dtype: int64"
      ]
     },
     "execution_count": 147,
     "metadata": {},
     "output_type": "execute_result"
    }
   ],
   "source": [
    "df.isFraud.value_counts()"
   ]
  },
  {
   "cell_type": "markdown",
   "id": "8664453e",
   "metadata": {},
   "source": [
    "- Our Dataset is not having Any missing value\n",
    "- from Above you can see that the dataset is highly inbalance data \n",
    "- so we are going to apply undersampling technique to deal with inbalance data"
   ]
  },
  {
   "cell_type": "markdown",
   "id": "610e8467",
   "metadata": {},
   "source": [
    "### Scaling \n",
    "- To Bring all the Data into same scale we have to do Scaling\n",
    "- so Here I Apply Min-Max Scaler"
   ]
  },
  {
   "cell_type": "code",
   "execution_count": 148,
   "id": "a5c5fbde",
   "metadata": {},
   "outputs": [],
   "source": [
    "from sklearn.preprocessing import MinMaxScaler\n",
    "scaler = MinMaxScaler()\n",
    "df_scaler= scaler.fit_transform(df)"
   ]
  },
  {
   "cell_type": "code",
   "execution_count": 149,
   "id": "061be854",
   "metadata": {},
   "outputs": [],
   "source": [
    "df = pd.DataFrame(df_scaler, columns=df.columns)"
   ]
  },
  {
   "cell_type": "code",
   "execution_count": 150,
   "id": "976feb3b",
   "metadata": {},
   "outputs": [
    {
     "data": {
      "text/html": [
       "<div>\n",
       "<style scoped>\n",
       "    .dataframe tbody tr th:only-of-type {\n",
       "        vertical-align: middle;\n",
       "    }\n",
       "\n",
       "    .dataframe tbody tr th {\n",
       "        vertical-align: top;\n",
       "    }\n",
       "\n",
       "    .dataframe thead th {\n",
       "        text-align: right;\n",
       "    }\n",
       "</style>\n",
       "<table border=\"1\" class=\"dataframe\">\n",
       "  <thead>\n",
       "    <tr style=\"text-align: right;\">\n",
       "      <th></th>\n",
       "      <th>amount</th>\n",
       "      <th>oldbalanceOrg</th>\n",
       "      <th>newbalanceOrig</th>\n",
       "      <th>oldbalanceDest</th>\n",
       "      <th>newbalanceDest</th>\n",
       "      <th>isFraud</th>\n",
       "      <th>isFlaggedFraud</th>\n",
       "      <th>type_CASH_OUT</th>\n",
       "      <th>type_DEBIT</th>\n",
       "      <th>type_PAYMENT</th>\n",
       "      <th>type_TRANSFER</th>\n",
       "    </tr>\n",
       "  </thead>\n",
       "  <tbody>\n",
       "    <tr>\n",
       "      <th>0</th>\n",
       "      <td>0.000106</td>\n",
       "      <td>0.002855</td>\n",
       "      <td>0.003233</td>\n",
       "      <td>0.000000</td>\n",
       "      <td>0.0</td>\n",
       "      <td>0.0</td>\n",
       "      <td>0.0</td>\n",
       "      <td>0.0</td>\n",
       "      <td>0.0</td>\n",
       "      <td>1.0</td>\n",
       "      <td>0.0</td>\n",
       "    </tr>\n",
       "    <tr>\n",
       "      <th>1</th>\n",
       "      <td>0.000020</td>\n",
       "      <td>0.000357</td>\n",
       "      <td>0.000391</td>\n",
       "      <td>0.000000</td>\n",
       "      <td>0.0</td>\n",
       "      <td>0.0</td>\n",
       "      <td>0.0</td>\n",
       "      <td>0.0</td>\n",
       "      <td>0.0</td>\n",
       "      <td>1.0</td>\n",
       "      <td>0.0</td>\n",
       "    </tr>\n",
       "    <tr>\n",
       "      <th>2</th>\n",
       "      <td>0.000002</td>\n",
       "      <td>0.000003</td>\n",
       "      <td>0.000000</td>\n",
       "      <td>0.000000</td>\n",
       "      <td>0.0</td>\n",
       "      <td>1.0</td>\n",
       "      <td>0.0</td>\n",
       "      <td>0.0</td>\n",
       "      <td>0.0</td>\n",
       "      <td>0.0</td>\n",
       "      <td>1.0</td>\n",
       "    </tr>\n",
       "    <tr>\n",
       "      <th>3</th>\n",
       "      <td>0.000002</td>\n",
       "      <td>0.000003</td>\n",
       "      <td>0.000000</td>\n",
       "      <td>0.000059</td>\n",
       "      <td>0.0</td>\n",
       "      <td>1.0</td>\n",
       "      <td>0.0</td>\n",
       "      <td>1.0</td>\n",
       "      <td>0.0</td>\n",
       "      <td>0.0</td>\n",
       "      <td>0.0</td>\n",
       "    </tr>\n",
       "    <tr>\n",
       "      <th>4</th>\n",
       "      <td>0.000126</td>\n",
       "      <td>0.000697</td>\n",
       "      <td>0.000603</td>\n",
       "      <td>0.000000</td>\n",
       "      <td>0.0</td>\n",
       "      <td>0.0</td>\n",
       "      <td>0.0</td>\n",
       "      <td>0.0</td>\n",
       "      <td>0.0</td>\n",
       "      <td>1.0</td>\n",
       "      <td>0.0</td>\n",
       "    </tr>\n",
       "  </tbody>\n",
       "</table>\n",
       "</div>"
      ],
      "text/plain": [
       "     amount  oldbalanceOrg  newbalanceOrig  oldbalanceDest  newbalanceDest  \\\n",
       "0  0.000106       0.002855        0.003233        0.000000             0.0   \n",
       "1  0.000020       0.000357        0.000391        0.000000             0.0   \n",
       "2  0.000002       0.000003        0.000000        0.000000             0.0   \n",
       "3  0.000002       0.000003        0.000000        0.000059             0.0   \n",
       "4  0.000126       0.000697        0.000603        0.000000             0.0   \n",
       "\n",
       "   isFraud  isFlaggedFraud  type_CASH_OUT  type_DEBIT  type_PAYMENT  \\\n",
       "0      0.0             0.0            0.0         0.0           1.0   \n",
       "1      0.0             0.0            0.0         0.0           1.0   \n",
       "2      1.0             0.0            0.0         0.0           0.0   \n",
       "3      1.0             0.0            1.0         0.0           0.0   \n",
       "4      0.0             0.0            0.0         0.0           1.0   \n",
       "\n",
       "   type_TRANSFER  \n",
       "0            0.0  \n",
       "1            0.0  \n",
       "2            1.0  \n",
       "3            0.0  \n",
       "4            0.0  "
      ]
     },
     "execution_count": 150,
     "metadata": {},
     "output_type": "execute_result"
    }
   ],
   "source": [
    "df.head()"
   ]
  },
  {
   "cell_type": "code",
   "execution_count": 152,
   "id": "8802d63c",
   "metadata": {},
   "outputs": [
    {
     "data": {
      "image/png": "[encoded data removed]",
      "text/plain": [
       "<Figure size 1000x900 with 2 Axes>"
      ]
     },
     "metadata": {},
     "output_type": "display_data"
    }
   ],
   "source": [
    "plt.figure(figsize=(10,9))\n",
    "sns.heatmap(df.corr(),annot=True)\n",
    "plt.show()"
   ]
  },
  {
   "cell_type": "markdown",
   "id": "5efba51f",
   "metadata": {},
   "source": [
    "### Separate X and Y"
   ]
  },
  {
   "cell_type": "code",
   "execution_count": 153,
   "id": "14998b9b",
   "metadata": {},
   "outputs": [],
   "source": [
    "X = df.drop(columns=['isFraud'],axis=1)"
   ]
  },
  {
   "cell_type": "code",
   "execution_count": 154,
   "id": "b875095d",
   "metadata": {},
   "outputs": [],
   "source": [
    "y= df['isFraud']"
   ]
  },
  {
   "cell_type": "markdown",
   "id": "bd2bf37e",
   "metadata": {},
   "source": [
    "### Apply Under Sampling Technique\n",
    "- Here we install imblearn library for under sampling"
   ]
  },
  {
   "cell_type": "code",
   "execution_count": 155,
   "id": "bc6dcdef",
   "metadata": {},
   "outputs": [
    {
     "name": "stdout",
     "output_type": "stream",
     "text": [
      "Requirement already satisfied: imblearn in c:\\users\\dhananjay\\anaconda3\\lib\\site-packages (0.0)\n",
      "Requirement already satisfied: imbalanced-learn in c:\\users\\dhananjay\\anaconda3\\lib\\site-packages (from imblearn) (0.10.1)\n",
      "Requirement already satisfied: numpy>=1.17.3 in c:\\users\\dhananjay\\anaconda3\\lib\\site-packages (from imbalanced-learn->imblearn) (1.21.5)\n",
      "Requirement already satisfied: threadpoolctl>=2.0.0 in c:\\users\\dhananjay\\anaconda3\\lib\\site-packages (from imbalanced-learn->imblearn) (2.2.0)\n",
      "Requirement already satisfied: scikit-learn>=1.0.2 in c:\\users\\dhananjay\\anaconda3\\lib\\site-packages (from imbalanced-learn->imblearn) (1.0.2)\n",
      "Requirement already satisfied: joblib>=1.1.1 in c:\\users\\dhananjay\\anaconda3\\lib\\site-packages (from imbalanced-learn->imblearn) (1.2.0)\n",
      "Requirement already satisfied: scipy>=1.3.2 in c:\\users\\dhananjay\\anaconda3\\lib\\site-packages (from imbalanced-learn->imblearn) (1.9.1)\n"
     ]
    }
   ],
   "source": [
    "!pip install imblearn"
   ]
  },
  {
   "cell_type": "code",
   "execution_count": 156,
   "id": "f50ec4bb",
   "metadata": {},
   "outputs": [],
   "source": [
    "from imblearn.under_sampling import RandomUnderSampler\n",
    "rs = RandomUnderSampler(random_state=42)\n",
    "x_new,y_new = rs.fit_resample(X,y)  "
   ]
  },
  {
   "cell_type": "code",
   "execution_count": 157,
   "id": "6a046cab",
   "metadata": {},
   "outputs": [
    {
     "data": {
      "text/plain": [
       "0.0    8213\n",
       "1.0    8213\n",
       "Name: isFraud, dtype: int64"
      ]
     },
     "execution_count": 157,
     "metadata": {},
     "output_type": "execute_result"
    }
   ],
   "source": [
    "y_new.value_counts()"
   ]
  },
  {
   "cell_type": "markdown",
   "id": "bc0dcf19",
   "metadata": {},
   "source": [
    "### Train-Test-Split"
   ]
  },
  {
   "cell_type": "code",
   "execution_count": 158,
   "id": "02682dec",
   "metadata": {},
   "outputs": [],
   "source": [
    "from sklearn.model_selection import train_test_split\n",
    "X_train,X_test,y_train,y_test = train_test_split(x_new,y_new,test_size=0.3,random_state=42)"
   ]
  },
  {
   "cell_type": "markdown",
   "id": "953b1e85",
   "metadata": {},
   "source": [
    "### Logistic Regression"
   ]
  },
  {
   "cell_type": "code",
   "execution_count": 159,
   "id": "e29a38b9",
   "metadata": {},
   "outputs": [
    {
     "name": "stdout",
     "output_type": "stream",
     "text": [
      "Train Accuracy =  0.787528265785354\n",
      "Test Accuracy =  0.7717126623376623\n",
      "--------------------------------------------------\n",
      "cross validation score =  0.7844268429044023\n"
     ]
    }
   ],
   "source": [
    "# Modeling\n",
    "from sklearn.linear_model import LogisticRegression \n",
    "log_model = LogisticRegression()\n",
    "log_model.fit(X_train,y_train)\n",
    "\n",
    "# Prediction\n",
    "ypred_train = log_model.predict(X_train)\n",
    "ypred_test = log_model.predict(X_test)\n",
    "\n",
    "# Evaluation\n",
    "from sklearn.metrics import accuracy_score\n",
    "print('Train Accuracy = ',accuracy_score(y_train,ypred_train))\n",
    "print('Test Accuracy = ',accuracy_score(y_test,ypred_test))\n",
    "\n",
    "print('-'*50)\n",
    "\n",
    "# Cross Validation Score\n",
    "scores = cross_val_score(log_model,x_new,y_new,cv=5)\n",
    "print('cross validation score = ',  scores.mean())   "
   ]
  },
  {
   "cell_type": "code",
   "execution_count": 160,
   "id": "b44ee5b4",
   "metadata": {},
   "outputs": [
    {
     "name": "stdout",
     "output_type": "stream",
     "text": [
      "[[1361 1118]\n",
      " [   7 2442]]\n"
     ]
    }
   ],
   "source": [
    "from sklearn.metrics import confusion_matrix\n",
    "print(confusion_matrix(y_test,ypred_test))"
   ]
  },
  {
   "cell_type": "code",
   "execution_count": 161,
   "id": "08271af3",
   "metadata": {},
   "outputs": [
    {
     "name": "stdout",
     "output_type": "stream",
     "text": [
      "              precision    recall  f1-score   support\n",
      "\n",
      "         0.0       0.99      0.55      0.71      2479\n",
      "         1.0       0.69      1.00      0.81      2449\n",
      "\n",
      "    accuracy                           0.77      4928\n",
      "   macro avg       0.84      0.77      0.76      4928\n",
      "weighted avg       0.84      0.77      0.76      4928\n",
      "\n"
     ]
    }
   ],
   "source": [
    "from sklearn.metrics import classification_report\n",
    "print(classification_report(y_test,ypred_test))"
   ]
  },
  {
   "cell_type": "code",
   "execution_count": 162,
   "id": "e9548463",
   "metadata": {},
   "outputs": [
    {
     "data": {
      "image/png": "[encoded data removed]",
      "text/plain": [
       "<Figure size 640x480 with 1 Axes>"
      ]
     },
     "metadata": {},
     "output_type": "display_data"
    }
   ],
   "source": [
    "from sklearn.metrics import plot_roc_curve\n",
    "plot_roc_curve(log_model,X_test,y_test)\n",
    "plt.show()"
   ]
  },
  {
   "cell_type": "markdown",
   "id": "dcad11eb",
   "metadata": {},
   "source": [
    "### KNN "
   ]
  },
  {
   "cell_type": "code",
   "execution_count": 163,
   "id": "81c8077a",
   "metadata": {},
   "outputs": [
    {
     "name": "stdout",
     "output_type": "stream",
     "text": [
      "train accuracy =  0.9810401809010263\n",
      "test accuracy =   0.9750405844155844\n",
      "--------------------------------------------------\n",
      "cross validation score =  0.9758921525849715\n"
     ]
    }
   ],
   "source": [
    "# Modeling\n",
    "from sklearn.neighbors import KNeighborsClassifier\n",
    "knn_model = KNeighborsClassifier()\n",
    "knn_model.fit(X_train,y_train)\n",
    "\n",
    "# Prediction\n",
    "ypred_train = knn_model.predict(X_train)\n",
    "ypred_test = knn_model.predict(X_test)\n",
    "\n",
    "#Evaluation\n",
    "print('train accuracy = ', accuracy_score(y_train,ypred_train))\n",
    "print('test accuracy =  ', accuracy_score(y_test,ypred_test))\n",
    "\n",
    "print('-'*50)\n",
    "\n",
    "# Cross Validation Score\n",
    "scores = cross_val_score(knn_model,x_new,y_new,cv=5)\n",
    "print('cross validation score = ',  scores.mean())                           "
   ]
  },
  {
   "cell_type": "markdown",
   "id": "deae835f",
   "metadata": {},
   "source": [
    "### SVM"
   ]
  },
  {
   "cell_type": "code",
   "execution_count": 164,
   "id": "7c71fca2",
   "metadata": {},
   "outputs": [
    {
     "name": "stdout",
     "output_type": "stream",
     "text": [
      "train accuracy =  0.786919464254653\n",
      "test accuracy =  0.7727272727272727\n",
      "--------------------------------------------------\n",
      "cross validation score =  0.783513749118765\n"
     ]
    }
   ],
   "source": [
    "# Modeling\n",
    "from sklearn.svm import SVC\n",
    "svm_model = SVC()\n",
    "svm_model.fit(X_train,y_train)\n",
    "\n",
    "# Prediction \n",
    "\n",
    "ypred_train = svm_model.predict(X_train)\n",
    "ypred_test = svm_model.predict(X_test)\n",
    "\n",
    "#Evaluation \n",
    "print('train accuracy = ',accuracy_score(y_train,ypred_train))\n",
    "print('test accuracy = ',accuracy_score(y_test,ypred_test))\n",
    "\n",
    "print('-'*50)\n",
    "\n",
    "#cross validation Score\n",
    "scores = cross_val_score(svm_model,x_new,y_new,cv=5)\n",
    "print('cross validation score = ', scores.mean())"
   ]
  },
  {
   "cell_type": "markdown",
   "id": "493b9d06",
   "metadata": {},
   "source": [
    "### Decision Tree "
   ]
  },
  {
   "cell_type": "code",
   "execution_count": 165,
   "id": "2a0f4609",
   "metadata": {},
   "outputs": [
    {
     "name": "stdout",
     "output_type": "stream",
     "text": [
      "train accuracy =  1.0\n",
      "test accuracy =  0.9898538961038961\n",
      "--------------------------------------------------\n",
      "cross validation score =  0.9915380318328483\n"
     ]
    }
   ],
   "source": [
    "# Modeling\n",
    "from sklearn.tree import DecisionTreeClassifier\n",
    "dt_model = DecisionTreeClassifier(random_state=42)\n",
    "dt_model.fit(X_train,y_train)\n",
    "\n",
    "# Prediction \n",
    "\n",
    "ypred_train = dt_model.predict(X_train)\n",
    "ypred_test = dt_model.predict(X_test)\n",
    "\n",
    "#Evaluation \n",
    "print('train accuracy = ',accuracy_score(y_train,ypred_train))\n",
    "print('test accuracy = ',accuracy_score(y_test,ypred_test))\n",
    "\n",
    "print('-'*50)\n",
    "\n",
    "#cross validation Score\n",
    "scores = cross_val_score(dt_model,x_new,y_new,cv=5)\n",
    "print('cross validation score = ', scores.mean())"
   ]
  },
  {
   "cell_type": "markdown",
   "id": "463d9e42",
   "metadata": {},
   "source": [
    "- Decision Tree model show Overfitting Problem"
   ]
  },
  {
   "cell_type": "markdown",
   "id": "f1a1547f",
   "metadata": {},
   "source": [
    "### Random Forest "
   ]
  },
  {
   "cell_type": "code",
   "execution_count": 166,
   "id": "eb9fb8a9",
   "metadata": {},
   "outputs": [
    {
     "name": "stdout",
     "output_type": "stream",
     "text": [
      "train accuracy =  1.0\n",
      "test accuracy =  0.992086038961039\n",
      "--------------------------------------------------\n",
      "cross validation score =  0.9919035139158702\n"
     ]
    }
   ],
   "source": [
    "# Modeling \n",
    "from sklearn.ensemble import RandomForestClassifier\n",
    "Rf_model = RandomForestClassifier()\n",
    "Rf_model.fit(X_train,y_train)\n",
    "\n",
    "# Prediction \n",
    "\n",
    "ypred_train = Rf_model.predict(X_train)\n",
    "ypred_test = Rf_model.predict(X_test)\n",
    "\n",
    "#Evaluation \n",
    "print('train accuracy = ',accuracy_score(y_train,ypred_train))\n",
    "print('test accuracy = ',accuracy_score(y_test,ypred_test))\n",
    "\n",
    "print('-'*50)\n",
    "\n",
    "#cross validation Score\n",
    "scores = cross_val_score(Rf_model,x_new,y_new,cv=5)\n",
    "print('cross validation score = ', scores.mean())"
   ]
  },
  {
   "cell_type": "markdown",
   "id": "7dfafc1c",
   "metadata": {},
   "source": [
    "- Random Forest model Also show Overfitting Problem"
   ]
  },
  {
   "cell_type": "markdown",
   "id": "9fb2c47a",
   "metadata": {},
   "source": [
    "### Ada Boost Classifier"
   ]
  },
  {
   "cell_type": "code",
   "execution_count": 167,
   "id": "59e926de",
   "metadata": {},
   "outputs": [
    {
     "name": "stdout",
     "output_type": "stream",
     "text": [
      "train accuracy =  0.9784310314837363\n",
      "test accuracy =  0.9784902597402597\n",
      "--------------------------------------------------\n",
      "cross validation score =  0.9745527124436404\n"
     ]
    }
   ],
   "source": [
    "# Modeling \n",
    "from sklearn.ensemble import AdaBoostClassifier\n",
    "Ada_model = AdaBoostClassifier()\n",
    "Ada_model.fit(X_train,y_train)\n",
    "\n",
    "# Prediction \n",
    "\n",
    "ypred_train = Ada_model.predict(X_train)\n",
    "ypred_test = Ada_model.predict(X_test)\n",
    "\n",
    "#Evaluation \n",
    "print('train accuracy = ',accuracy_score(y_train,ypred_train))\n",
    "print('test accuracy = ',accuracy_score(y_test,ypred_test))\n",
    "\n",
    "print('-'*50)\n",
    "\n",
    "#cross validation Score\n",
    "scores = cross_val_score(Ada_model,x_new,y_new,cv=5)\n",
    "print('cross validation score = ', scores.mean())"
   ]
  },
  {
   "cell_type": "markdown",
   "id": "c6111045",
   "metadata": {},
   "source": [
    "### Gradient Boost "
   ]
  },
  {
   "cell_type": "code",
   "execution_count": 168,
   "id": "ee3546d0",
   "metadata": {},
   "outputs": [
    {
     "name": "stdout",
     "output_type": "stream",
     "text": [
      "train accuracy =  0.9899982605670551\n",
      "test accuracy =  0.9888392857142857\n",
      "--------------------------------------------------\n",
      "cross validation score =  0.9875200634396559\n"
     ]
    }
   ],
   "source": [
    "# Modeling\n",
    "from sklearn.ensemble import GradientBoostingClassifier\n",
    "Gb_model = GradientBoostingClassifier()\n",
    "Gb_model.fit(X_train,y_train)\n",
    "\n",
    "# Prediction \n",
    "\n",
    "ypred_train = Gb_model.predict(X_train)\n",
    "ypred_test = Gb_model.predict(X_test)\n",
    "\n",
    "#Evaluation \n",
    "print('train accuracy = ',accuracy_score(y_train,ypred_train))\n",
    "print('test accuracy = ',accuracy_score(y_test,ypred_test))\n",
    "\n",
    "print('-'*50)\n",
    "\n",
    "#cross validation Score\n",
    "scores = cross_val_score(Gb_model,x_new,y_new,cv=5)\n",
    "print('cross validation score = ', scores.mean())"
   ]
  },
  {
   "cell_type": "markdown",
   "id": "46ba1acc",
   "metadata": {},
   "source": [
    "### XGB Classifier"
   ]
  },
  {
   "cell_type": "code",
   "execution_count": 169,
   "id": "6a284fa4",
   "metadata": {},
   "outputs": [
    {
     "name": "stdout",
     "output_type": "stream",
     "text": [
      "train accuracy =  0.999739085058271\n",
      "test accuracy =  0.9937094155844156\n",
      "--------------------------------------------------\n",
      "cross validation score =  0.9942167638920154\n"
     ]
    }
   ],
   "source": [
    "# Modeling\n",
    "from xgboost import XGBClassifier\n",
    "Xgb_model = XGBClassifier()\n",
    "Xgb_model.fit(X_train,y_train)\n",
    "\n",
    "# Prediction \n",
    "\n",
    "ypred_train = Xgb_model.predict(X_train)\n",
    "ypred_test = Xgb_model.predict(X_test)\n",
    "\n",
    "#Evaluation \n",
    "print('train accuracy = ',accuracy_score(y_train,ypred_train))\n",
    "print('test accuracy = ',accuracy_score(y_test,ypred_test))\n",
    "\n",
    "print('-'*50)\n",
    "\n",
    "#cross validation Score\n",
    "scores = cross_val_score(Xgb_model,x_new,y_new,cv=5)\n",
    "print('cross validation score = ', scores.mean())"
   ]
  },
  {
   "cell_type": "markdown",
   "id": "321e3da5",
   "metadata": {},
   "source": [
    "- Out of All Algorithm\n",
    "        1. Logistic Regression\n",
    "        2. KNN\n",
    "        3. SVM (Support Vector Machine)\n",
    "        4. Decision Tree\n",
    "        5. Random Forest\n",
    "        7. Ada Boosting\n",
    "        8. Gradient Boosting\n",
    "        9. XG Boost\n",
    "        \n",
    "- XG Boost Algorithm give Maximum Accuracy of 99 % , so we select XG Boost Algorithm for our final model.         "
   ]
  },
  {
   "cell_type": "markdown",
   "id": "f6a57e3f",
   "metadata": {},
   "source": [
    "##                                      Actionable Plan "
   ]
  },
  {
   "cell_type": "markdown",
   "id": "359b2fce",
   "metadata": {},
   "source": [
    "- from the given data and the model for prediction it is evidant that the person with low bank balance and person how is flag fraud is highly correlated hence we should look at people with such features and take necessary action so that they don't commit such crime in future. \n",
    "\n",
    "\n",
    "- type_transfer is highly correllated with isFraud so from here we can conclude that, we should put limit on Direct Transfer of money. for example: we should not transfer more than 20k per day.\n",
    "\n",
    "\n",
    "- Identify individuals with low bank balance and flagged as fraud and Use the model to identify individuals who have both low bank balance and have been flagged as fraud. These individuals are highly correlated with the risk of committing financial crimes in the future.\n",
    "\n",
    "\n",
    "- Investigate flagged individuals and gather additional information to understand their financial behavior and history. This could include analyzing their oldbalanceOrg, newbalanceOrig, oldbalanceDest, newbalanceDest, transaction history, credit score, and other relevant financial data.\n",
    "\n",
    "\n",
    "- Continuously monitor the model's predictions and refine it as necessary to ensure that it remains accurate and reliable. This may involve updating the model with new data or adjusting its parameters to improve its performance."
   ]
  },
  {
   "cell_type": "markdown",
   "id": "ce739716",
   "metadata": {},
   "source": [
    "#### 1. Data cleaning including missing values, outliers and multi-collinearity. "
   ]
  },
  {
   "cell_type": "markdown",
   "id": "7c444648",
   "metadata": {},
   "source": [
    "yes, i do all these thing - treating missing value, treating outliers and multi-collinearity."
   ]
  },
  {
   "cell_type": "markdown",
   "id": "7b7b59dd",
   "metadata": {},
   "source": [
    "#### 2. Describe your fraud detection model in elaboration. "
   ]
  },
  {
   "cell_type": "markdown",
   "id": "09460862",
   "metadata": {},
   "source": [
    "- My Fraud detection model consists of several components, including data preprocessing, feature engineering, and modeling.\n",
    "\n",
    "Data preprocessing: In this step, the raw data is cleaned, transformed, and preprocessed to prepare it for analysis. This can involve removing duplicates, handling missing values, and transforming the data into a suitable format for modeling.\n",
    "\n",
    "Modeling: In this step, the preprocessed and engineered data is used to train a machine learning algorithm to make predictions about whether a given transaction or activity is fraudulent. There are several types of machine learning algorithms that can be used, such as \n",
    "\n",
    "  1. Logistic Regression\n",
    "  2. KNN\n",
    "  3. SVM (Support Vector Machine)\n",
    "  4. Decision Tree\n",
    "  5. Random Forest\n",
    "  7. Ada Boosting\n",
    "  8. Gradient Boosting\n",
    "  9. XG Boost\n",
    "  \n",
    "XG Boost Algorithm give Maximum Accuracy of 99 % , so we select XG Boost Algorithm for our final model."
   ]
  },
  {
   "cell_type": "markdown",
   "id": "4971ea9f",
   "metadata": {},
   "source": [
    "#### 3. How did you select variables to be included in the model?"
   ]
  },
  {
   "cell_type": "markdown",
   "id": "d6b05d59",
   "metadata": {},
   "source": [
    "Basically, I selected only those variable which is contribute more towards target variable or more correlated with target variable. \n",
    "\n",
    "Also i drop some of variable like 'step','nameOrig','nameDest' which not contribute towards target variable."
   ]
  },
  {
   "cell_type": "markdown",
   "id": "df8b1c1f",
   "metadata": {},
   "source": [
    "#### 4. Demonstrate the performance of the model by using best set of tools. "
   ]
  },
  {
   "cell_type": "markdown",
   "id": "b33d482d",
   "metadata": {},
   "source": [
    "To demonstrate the performance of a fraud detection model, we need to evaluate its accuracy, precision, recall, and F1-score. These metrics help us understand how well the model is performing and how many false positives or false negatives it is producing.\n",
    "\n",
    "Tools such as Python and its libraries, such as Pandas, NumPy, and Matplotlib, sklearn are commonly used for data preprocessing, feature engineering, and modeling."
   ]
  },
  {
   "cell_type": "markdown",
   "id": "69411c44",
   "metadata": {},
   "source": [
    "#### 5. What are the key factors that predict fraudulent customer?"
   ]
  },
  {
   "cell_type": "markdown",
   "id": "6eabe117",
   "metadata": {},
   "source": [
    "the key factors that can help predict fraudulent customers are identified through exploratory data analysis (EDA) and feature engineering. Here are some of the key factors that can be identified through data analysis:\n",
    "\n",
    "- Payment method: Certain payment methods may be more prone to fraudulent activity, such as type_CASH_OUT, type_DEBIT\ttype_PAYMENT, type_TRANSFER.\n",
    "\n",
    "\n",
    "- User behavior: User behavior can be analyzed to identify patterns that may indicate fraudulent activity, such as multiple failed login attempts or unusual navigation patterns on a website.\n",
    "\n",
    "\n",
    "- Account information: Account information, such as the account balance, oldbalanceOrg, newbalanceOrig, oldbalanceDest, newbalanceDest can also be analyzed to identify potential fraud."
   ]
  },
  {
   "cell_type": "markdown",
   "id": "15c9f14a",
   "metadata": {},
   "source": [
    "#### 6. Do these factors make sense? If yes, How? If not, How not?"
   ]
  },
  {
   "cell_type": "markdown",
   "id": "a35856ff",
   "metadata": {},
   "source": [
    "YES, these factors make sense once you know which customer chance is high to doing fraud in future so you can esaly stop them save company from losses."
   ]
  },
  {
   "cell_type": "markdown",
   "id": "5c5fbd6a",
   "metadata": {},
   "source": [
    "#### 7. What kind of prevention should be adopted while company update its infrastructure?"
   ]
  },
  {
   "cell_type": "markdown",
   "id": "209d7d2c",
   "metadata": {},
   "source": [
    "- Continuously monitor the model's predictions and refine it as necessary to ensure that it remains accurate and reliable. This may involve updating the model with new data or adjusting its parameters to improve its performance.\n",
    "\n",
    "\n",
    "- Identify individuals with low bank balance and flagged as fraud and Use the model to identify individuals who have both low bank balance and have been flagged as fraud. \n",
    "\n",
    "\n",
    "- Continuously monitor the model's predictions and refine it as necessary to ensure that it remains accurate and reliable. This may involve updating the model with new data or adjusting its parameters to improve its performance.\n",
    "\n"
   ]
  },
  {
   "cell_type": "markdown",
   "id": "abfb771b",
   "metadata": {},
   "source": [
    "#### 8. Assuming these actions have been implemented, how would you determine if they work"
   ]
  },
  {
   "cell_type": "markdown",
   "id": "9e406451",
   "metadata": {},
   "source": [
    "To determine if the prevention measures implemented during the infrastructure update are effective\n",
    "\n",
    "1) Fraud detection rate: The fraud detection rate is the percentage of fraud attempts that are successfully detected and prevented by the system.\n",
    "\n",
    "\n",
    "2) False positive rate: The false positive rate is the percentage of legitimate transactions that are incorrectly flagged as fraudulent.\n",
    "\n",
    "\n",
    "3) Transaction rejection rate: The transaction rejection rate is the percentage of transactions that are rejected due to suspicion of fraud. \n",
    "\n",
    "4) User satisfaction: User satisfaction is an important factor in determining the effectiveness of fraud prevention measures.\n",
    "\n",
    "5) Finally, the financial impact of fraud prevention measures should also be considered. By measuring the cost of fraud prevention measures against the potential losses from fraud, companies can determine if the prevention measures are cost-effective."
   ]
  }
 ],
 "metadata": {
  "kernelspec": {
   "display_name": "Python 3 (ipykernel)",
   "language": "python",
   "name": "python3"
  },
  "language_info": {
   "codemirror_mode": {
    "name": "ipython",
    "version": 3
   },
   "file_extension": ".py",
   "mimetype": "text/x-python",
   "name": "python",
   "nbconvert_exporter": "python",
   "pygments_lexer": "ipython3",
   "version": "3.9.13"
  }
 },
 "nbformat": 4,
 "nbformat_minor": 5
}
