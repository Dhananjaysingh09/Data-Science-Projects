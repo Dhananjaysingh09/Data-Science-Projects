{
 "cells": [
  {
   "cell_type": "code",
   "execution_count": 2,
   "id": "cb56e452",
   "metadata": {},
   "outputs": [],
   "source": [
    "import numpy as np \n",
    "import pandas as pd \n",
    "import matplotlib.pyplot as plt\n",
    "import seaborn as sns"
   ]
  },
  {
   "cell_type": "code",
   "execution_count": 3,
   "id": "a3f3b81e",
   "metadata": {},
   "outputs": [
    {
     "data": {
      "text/html": [
       "<div>\n",
       "<style scoped>\n",
       "    .dataframe tbody tr th:only-of-type {\n",
       "        vertical-align: middle;\n",
       "    }\n",
       "\n",
       "    .dataframe tbody tr th {\n",
       "        vertical-align: top;\n",
       "    }\n",
       "\n",
       "    .dataframe thead th {\n",
       "        text-align: right;\n",
       "    }\n",
       "</style>\n",
       "<table border=\"1\" class=\"dataframe\">\n",
       "  <thead>\n",
       "    <tr style=\"text-align: right;\">\n",
       "      <th></th>\n",
       "      <th>Date</th>\n",
       "      <th>Total number of license issued</th>\n",
       "      <th>lowest price</th>\n",
       "      <th>avg price</th>\n",
       "      <th>Total number of applicants</th>\n",
       "    </tr>\n",
       "  </thead>\n",
       "  <tbody>\n",
       "    <tr>\n",
       "      <th>0</th>\n",
       "      <td>Jan-02</td>\n",
       "      <td>1400</td>\n",
       "      <td>13600</td>\n",
       "      <td>14735</td>\n",
       "      <td>3718</td>\n",
       "    </tr>\n",
       "    <tr>\n",
       "      <th>1</th>\n",
       "      <td>Feb-02</td>\n",
       "      <td>1800</td>\n",
       "      <td>13100</td>\n",
       "      <td>14057</td>\n",
       "      <td>4590</td>\n",
       "    </tr>\n",
       "    <tr>\n",
       "      <th>2</th>\n",
       "      <td>Mar-02</td>\n",
       "      <td>2000</td>\n",
       "      <td>14300</td>\n",
       "      <td>14662</td>\n",
       "      <td>5190</td>\n",
       "    </tr>\n",
       "    <tr>\n",
       "      <th>3</th>\n",
       "      <td>Apr-02</td>\n",
       "      <td>2300</td>\n",
       "      <td>16000</td>\n",
       "      <td>16334</td>\n",
       "      <td>4806</td>\n",
       "    </tr>\n",
       "    <tr>\n",
       "      <th>4</th>\n",
       "      <td>May-02</td>\n",
       "      <td>2350</td>\n",
       "      <td>17800</td>\n",
       "      <td>18357</td>\n",
       "      <td>4665</td>\n",
       "    </tr>\n",
       "  </tbody>\n",
       "</table>\n",
       "</div>"
      ],
      "text/plain": [
       "     Date  Total number of license issued  lowest price   avg price  \\\n",
       "0  Jan-02                            1400          13600      14735   \n",
       "1  Feb-02                            1800          13100      14057   \n",
       "2  Mar-02                            2000          14300      14662   \n",
       "3  Apr-02                            2300          16000      16334   \n",
       "4  May-02                            2350          17800      18357   \n",
       "\n",
       "   Total number of applicants  \n",
       "0                        3718  \n",
       "1                        4590  \n",
       "2                        5190  \n",
       "3                        4806  \n",
       "4                        4665  "
      ]
     },
     "execution_count": 3,
     "metadata": {},
     "output_type": "execute_result"
    }
   ],
   "source": [
    "df = pd.read_csv('Shanghai license plate price - Sheet3.csv')\n",
    "df.head()"
   ]
  },
  {
   "cell_type": "code",
   "execution_count": 4,
   "id": "aba0d340",
   "metadata": {},
   "outputs": [
    {
     "data": {
      "text/plain": [
       "Date                              0\n",
       "Total number of license issued    0\n",
       "lowest price                      0\n",
       "avg price                         0\n",
       "Total number of applicants        0\n",
       "dtype: int64"
      ]
     },
     "execution_count": 4,
     "metadata": {},
     "output_type": "execute_result"
    }
   ],
   "source": [
    "df.isnull().sum()"
   ]
  },
  {
   "cell_type": "code",
   "execution_count": 5,
   "id": "bb28d043",
   "metadata": {},
   "outputs": [
    {
     "name": "stdout",
     "output_type": "stream",
     "text": [
      "<class 'pandas.core.frame.DataFrame'>\n",
      "RangeIndex: 204 entries, 0 to 203\n",
      "Data columns (total 5 columns):\n",
      " #   Column                          Non-Null Count  Dtype \n",
      "---  ------                          --------------  ----- \n",
      " 0   Date                            204 non-null    object\n",
      " 1   Total number of license issued  204 non-null    int64 \n",
      " 2   lowest price                    204 non-null    int64 \n",
      " 3   avg price                       204 non-null    int64 \n",
      " 4   Total number of applicants      204 non-null    int64 \n",
      "dtypes: int64(4), object(1)\n",
      "memory usage: 8.1+ KB\n"
     ]
    }
   ],
   "source": [
    "df.info()"
   ]
  },
  {
   "cell_type": "code",
   "execution_count": 6,
   "id": "8af8a45d",
   "metadata": {},
   "outputs": [
    {
     "data": {
      "text/html": [
       "<div>\n",
       "<style scoped>\n",
       "    .dataframe tbody tr th:only-of-type {\n",
       "        vertical-align: middle;\n",
       "    }\n",
       "\n",
       "    .dataframe tbody tr th {\n",
       "        vertical-align: top;\n",
       "    }\n",
       "\n",
       "    .dataframe thead th {\n",
       "        text-align: right;\n",
       "    }\n",
       "</style>\n",
       "<table border=\"1\" class=\"dataframe\">\n",
       "  <thead>\n",
       "    <tr style=\"text-align: right;\">\n",
       "      <th></th>\n",
       "      <th>Total number of license issued</th>\n",
       "      <th>lowest price</th>\n",
       "      <th>avg price</th>\n",
       "      <th>Total number of applicants</th>\n",
       "    </tr>\n",
       "  </thead>\n",
       "  <tbody>\n",
       "    <tr>\n",
       "      <th>count</th>\n",
       "      <td>204.000000</td>\n",
       "      <td>204.000000</td>\n",
       "      <td>204.000000</td>\n",
       "      <td>204.000000</td>\n",
       "    </tr>\n",
       "    <tr>\n",
       "      <th>mean</th>\n",
       "      <td>7634.323529</td>\n",
       "      <td>53375.000000</td>\n",
       "      <td>54358.044118</td>\n",
       "      <td>66769.436275</td>\n",
       "    </tr>\n",
       "    <tr>\n",
       "      <th>std</th>\n",
       "      <td>2615.136371</td>\n",
       "      <td>24577.035068</td>\n",
       "      <td>23772.554894</td>\n",
       "      <td>85081.873379</td>\n",
       "    </tr>\n",
       "    <tr>\n",
       "      <th>min</th>\n",
       "      <td>1400.000000</td>\n",
       "      <td>8100.000000</td>\n",
       "      <td>14057.000000</td>\n",
       "      <td>3525.000000</td>\n",
       "    </tr>\n",
       "    <tr>\n",
       "      <th>25%</th>\n",
       "      <td>5958.250000</td>\n",
       "      <td>34050.000000</td>\n",
       "      <td>34932.000000</td>\n",
       "      <td>10457.250000</td>\n",
       "    </tr>\n",
       "    <tr>\n",
       "      <th>50%</th>\n",
       "      <td>7876.500000</td>\n",
       "      <td>45050.000000</td>\n",
       "      <td>46036.500000</td>\n",
       "      <td>19324.000000</td>\n",
       "    </tr>\n",
       "    <tr>\n",
       "      <th>75%</th>\n",
       "      <td>9000.000000</td>\n",
       "      <td>77950.000000</td>\n",
       "      <td>78142.000000</td>\n",
       "      <td>115978.250000</td>\n",
       "    </tr>\n",
       "    <tr>\n",
       "      <th>max</th>\n",
       "      <td>16000.000000</td>\n",
       "      <td>93500.000000</td>\n",
       "      <td>93540.000000</td>\n",
       "      <td>277889.000000</td>\n",
       "    </tr>\n",
       "  </tbody>\n",
       "</table>\n",
       "</div>"
      ],
      "text/plain": [
       "       Total number of license issued  lowest price      avg price  \\\n",
       "count                      204.000000     204.000000    204.000000   \n",
       "mean                      7634.323529   53375.000000  54358.044118   \n",
       "std                       2615.136371   24577.035068  23772.554894   \n",
       "min                       1400.000000    8100.000000  14057.000000   \n",
       "25%                       5958.250000   34050.000000  34932.000000   \n",
       "50%                       7876.500000   45050.000000  46036.500000   \n",
       "75%                       9000.000000   77950.000000  78142.000000   \n",
       "max                      16000.000000   93500.000000  93540.000000   \n",
       "\n",
       "       Total number of applicants  \n",
       "count                  204.000000  \n",
       "mean                 66769.436275  \n",
       "std                  85081.873379  \n",
       "min                   3525.000000  \n",
       "25%                  10457.250000  \n",
       "50%                  19324.000000  \n",
       "75%                 115978.250000  \n",
       "max                 277889.000000  "
      ]
     },
     "execution_count": 6,
     "metadata": {},
     "output_type": "execute_result"
    }
   ],
   "source": [
    "df.describe()"
   ]
  },
  {
   "cell_type": "code",
   "execution_count": 7,
   "id": "e84202ac",
   "metadata": {},
   "outputs": [
    {
     "data": {
      "text/html": [
       "<div>\n",
       "<style scoped>\n",
       "    .dataframe tbody tr th:only-of-type {\n",
       "        vertical-align: middle;\n",
       "    }\n",
       "\n",
       "    .dataframe tbody tr th {\n",
       "        vertical-align: top;\n",
       "    }\n",
       "\n",
       "    .dataframe thead th {\n",
       "        text-align: right;\n",
       "    }\n",
       "</style>\n",
       "<table border=\"1\" class=\"dataframe\">\n",
       "  <thead>\n",
       "    <tr style=\"text-align: right;\">\n",
       "      <th></th>\n",
       "      <th>Date</th>\n",
       "      <th>Total number of license issued</th>\n",
       "    </tr>\n",
       "  </thead>\n",
       "  <tbody>\n",
       "    <tr>\n",
       "      <th>0</th>\n",
       "      <td>Jan-02</td>\n",
       "      <td>1400</td>\n",
       "    </tr>\n",
       "    <tr>\n",
       "      <th>1</th>\n",
       "      <td>Feb-02</td>\n",
       "      <td>1800</td>\n",
       "    </tr>\n",
       "    <tr>\n",
       "      <th>2</th>\n",
       "      <td>Mar-02</td>\n",
       "      <td>2000</td>\n",
       "    </tr>\n",
       "    <tr>\n",
       "      <th>3</th>\n",
       "      <td>Apr-02</td>\n",
       "      <td>2300</td>\n",
       "    </tr>\n",
       "    <tr>\n",
       "      <th>4</th>\n",
       "      <td>May-02</td>\n",
       "      <td>2350</td>\n",
       "    </tr>\n",
       "    <tr>\n",
       "      <th>...</th>\n",
       "      <td>...</td>\n",
       "      <td>...</td>\n",
       "    </tr>\n",
       "    <tr>\n",
       "      <th>199</th>\n",
       "      <td>Sep-18</td>\n",
       "      <td>12712</td>\n",
       "    </tr>\n",
       "    <tr>\n",
       "      <th>200</th>\n",
       "      <td>Oct-18</td>\n",
       "      <td>10728</td>\n",
       "    </tr>\n",
       "    <tr>\n",
       "      <th>201</th>\n",
       "      <td>Nov-18</td>\n",
       "      <td>11766</td>\n",
       "    </tr>\n",
       "    <tr>\n",
       "      <th>202</th>\n",
       "      <td>Dec-18</td>\n",
       "      <td>12850</td>\n",
       "    </tr>\n",
       "    <tr>\n",
       "      <th>203</th>\n",
       "      <td>Jan-19</td>\n",
       "      <td>12832</td>\n",
       "    </tr>\n",
       "  </tbody>\n",
       "</table>\n",
       "<p>204 rows × 2 columns</p>\n",
       "</div>"
      ],
      "text/plain": [
       "       Date  Total number of license issued\n",
       "0    Jan-02                            1400\n",
       "1    Feb-02                            1800\n",
       "2    Mar-02                            2000\n",
       "3    Apr-02                            2300\n",
       "4    May-02                            2350\n",
       "..      ...                             ...\n",
       "199  Sep-18                           12712\n",
       "200  Oct-18                           10728\n",
       "201  Nov-18                           11766\n",
       "202  Dec-18                           12850\n",
       "203  Jan-19                           12832\n",
       "\n",
       "[204 rows x 2 columns]"
      ]
     },
     "execution_count": 7,
     "metadata": {},
     "output_type": "execute_result"
    }
   ],
   "source": [
    "df1 = df.iloc[:,0:2]\n",
    "df1"
   ]
  },
  {
   "cell_type": "code",
   "execution_count": 8,
   "id": "6a9ea414",
   "metadata": {},
   "outputs": [],
   "source": [
    "from sklearn.preprocessing import MinMaxScaler\n",
    "sc = MinMaxScaler()\n",
    "df1['Total number of license issued'] = sc.fit_transform(df1[['Total number of license issued']])"
   ]
  },
  {
   "cell_type": "code",
   "execution_count": 9,
   "id": "53594342",
   "metadata": {},
   "outputs": [
    {
     "data": {
      "text/html": [
       "<div>\n",
       "<style scoped>\n",
       "    .dataframe tbody tr th:only-of-type {\n",
       "        vertical-align: middle;\n",
       "    }\n",
       "\n",
       "    .dataframe tbody tr th {\n",
       "        vertical-align: top;\n",
       "    }\n",
       "\n",
       "    .dataframe thead th {\n",
       "        text-align: right;\n",
       "    }\n",
       "</style>\n",
       "<table border=\"1\" class=\"dataframe\">\n",
       "  <thead>\n",
       "    <tr style=\"text-align: right;\">\n",
       "      <th></th>\n",
       "      <th>Date</th>\n",
       "      <th>Total number of license issued</th>\n",
       "    </tr>\n",
       "  </thead>\n",
       "  <tbody>\n",
       "    <tr>\n",
       "      <th>0</th>\n",
       "      <td>Jan-02</td>\n",
       "      <td>0.000000</td>\n",
       "    </tr>\n",
       "    <tr>\n",
       "      <th>1</th>\n",
       "      <td>Feb-02</td>\n",
       "      <td>0.027397</td>\n",
       "    </tr>\n",
       "    <tr>\n",
       "      <th>2</th>\n",
       "      <td>Mar-02</td>\n",
       "      <td>0.041096</td>\n",
       "    </tr>\n",
       "    <tr>\n",
       "      <th>3</th>\n",
       "      <td>Apr-02</td>\n",
       "      <td>0.061644</td>\n",
       "    </tr>\n",
       "    <tr>\n",
       "      <th>4</th>\n",
       "      <td>May-02</td>\n",
       "      <td>0.065068</td>\n",
       "    </tr>\n",
       "  </tbody>\n",
       "</table>\n",
       "</div>"
      ],
      "text/plain": [
       "     Date  Total number of license issued\n",
       "0  Jan-02                        0.000000\n",
       "1  Feb-02                        0.027397\n",
       "2  Mar-02                        0.041096\n",
       "3  Apr-02                        0.061644\n",
       "4  May-02                        0.065068"
      ]
     },
     "execution_count": 9,
     "metadata": {},
     "output_type": "execute_result"
    }
   ],
   "source": [
    "df1.head()"
   ]
  },
  {
   "cell_type": "code",
   "execution_count": 10,
   "id": "ab2928c9",
   "metadata": {},
   "outputs": [
    {
     "data": {
      "text/html": [
       "<div>\n",
       "<style scoped>\n",
       "    .dataframe tbody tr th:only-of-type {\n",
       "        vertical-align: middle;\n",
       "    }\n",
       "\n",
       "    .dataframe tbody tr th {\n",
       "        vertical-align: top;\n",
       "    }\n",
       "\n",
       "    .dataframe thead th {\n",
       "        text-align: right;\n",
       "    }\n",
       "</style>\n",
       "<table border=\"1\" class=\"dataframe\">\n",
       "  <thead>\n",
       "    <tr style=\"text-align: right;\">\n",
       "      <th></th>\n",
       "      <th>Total number of license issued</th>\n",
       "    </tr>\n",
       "    <tr>\n",
       "      <th>Date</th>\n",
       "      <th></th>\n",
       "    </tr>\n",
       "  </thead>\n",
       "  <tbody>\n",
       "    <tr>\n",
       "      <th>Jan-02</th>\n",
       "      <td>0.000000</td>\n",
       "    </tr>\n",
       "    <tr>\n",
       "      <th>Feb-02</th>\n",
       "      <td>0.027397</td>\n",
       "    </tr>\n",
       "    <tr>\n",
       "      <th>Mar-02</th>\n",
       "      <td>0.041096</td>\n",
       "    </tr>\n",
       "    <tr>\n",
       "      <th>Apr-02</th>\n",
       "      <td>0.061644</td>\n",
       "    </tr>\n",
       "    <tr>\n",
       "      <th>May-02</th>\n",
       "      <td>0.065068</td>\n",
       "    </tr>\n",
       "    <tr>\n",
       "      <th>...</th>\n",
       "      <td>...</td>\n",
       "    </tr>\n",
       "    <tr>\n",
       "      <th>Sep-18</th>\n",
       "      <td>0.774795</td>\n",
       "    </tr>\n",
       "    <tr>\n",
       "      <th>Oct-18</th>\n",
       "      <td>0.638904</td>\n",
       "    </tr>\n",
       "    <tr>\n",
       "      <th>Nov-18</th>\n",
       "      <td>0.710000</td>\n",
       "    </tr>\n",
       "    <tr>\n",
       "      <th>Dec-18</th>\n",
       "      <td>0.784247</td>\n",
       "    </tr>\n",
       "    <tr>\n",
       "      <th>Jan-19</th>\n",
       "      <td>0.783014</td>\n",
       "    </tr>\n",
       "  </tbody>\n",
       "</table>\n",
       "<p>204 rows × 1 columns</p>\n",
       "</div>"
      ],
      "text/plain": [
       "        Total number of license issued\n",
       "Date                                  \n",
       "Jan-02                        0.000000\n",
       "Feb-02                        0.027397\n",
       "Mar-02                        0.041096\n",
       "Apr-02                        0.061644\n",
       "May-02                        0.065068\n",
       "...                                ...\n",
       "Sep-18                        0.774795\n",
       "Oct-18                        0.638904\n",
       "Nov-18                        0.710000\n",
       "Dec-18                        0.784247\n",
       "Jan-19                        0.783014\n",
       "\n",
       "[204 rows x 1 columns]"
      ]
     },
     "execution_count": 10,
     "metadata": {},
     "output_type": "execute_result"
    }
   ],
   "source": [
    "df1.set_index('Date')"
   ]
  },
  {
   "cell_type": "markdown",
   "id": "912a5e48",
   "metadata": {},
   "source": [
    "### Visualize the time Series"
   ]
  },
  {
   "cell_type": "markdown",
   "id": "32d3facb",
   "metadata": {},
   "source": [
    "##### Check for Trends, Seasonality or Random Patter"
   ]
  },
  {
   "cell_type": "code",
   "execution_count": 11,
   "id": "f021bb40",
   "metadata": {},
   "outputs": [
    {
     "data": {
      "image/png": "[encoded data removed]",
      "text/plain": [
       "<Figure size 640x480 with 1 Axes>"
      ]
     },
     "metadata": {},
     "output_type": "display_data"
    }
   ],
   "source": [
    "sns.lineplot(x=df1.index,y=df1['Total number of license issued'])\n",
    "plt.show()"
   ]
  },
  {
   "cell_type": "markdown",
   "id": "cfd1c661",
   "metadata": {},
   "source": [
    "### Check for Stationarity"
   ]
  },
  {
   "cell_type": "markdown",
   "id": "e15c7fac",
   "metadata": {},
   "source": [
    "##### Method-1: Rolling Statistics"
   ]
  },
  {
   "cell_type": "code",
   "execution_count": 12,
   "id": "60b594a1",
   "metadata": {},
   "outputs": [
    {
     "data": {
      "image/png": "[encoded data removed]",
      "text/plain": [
       "<Figure size 640x480 with 1 Axes>"
      ]
     },
     "metadata": {},
     "output_type": "display_data"
    }
   ],
   "source": [
    "rolmean = df1['Total number of license issued'].rolling(window=30).mean()\n",
    "rolstd = df1['Total number of license issued'].rolling(window=30).std()\n",
    "\n",
    "#plot rolling statistics \n",
    "\n",
    "orig = plt.plot(df1['Total number of license issued'],color='blue',label='original')\n",
    "mean = plt.plot(rolmean,color='red', label = 'Rolling mean') \n",
    "std = plt.plot(rolstd, color= 'black',label= 'Rolling std')\n",
    "plt.title('Rolling Mean & Standard Deviation')\n",
    "plt.legend()\n",
    "plt.show()"
   ]
  },
  {
   "cell_type": "markdown",
   "id": "50a7ee69",
   "metadata": {},
   "source": [
    "Method-2: Augmented Dicky Fuller Test\n",
    "\n",
    "- for the ADF Test\n",
    "    - HO: data is non-stationary\n",
    "    - H1: data is stationary\n",
    "- Based on P-value, we will accept or reject HO (if P-value<5% reject null Hypothesis)\n"
   ]
  },
  {
   "cell_type": "code",
   "execution_count": 13,
   "id": "474cc7bd",
   "metadata": {},
   "outputs": [
    {
     "data": {
      "text/plain": [
       "(-1.3984461475918168,\n",
       " 0.5830208277704558,\n",
       " 11,\n",
       " 192,\n",
       " {'1%': -3.4648754262570978,\n",
       "  '5%': -2.876714157488788,\n",
       "  '10%': -2.574858699001736},\n",
       " -457.87304083215497)"
      ]
     },
     "execution_count": 13,
     "metadata": {},
     "output_type": "execute_result"
    }
   ],
   "source": [
    "from statsmodels.tsa.stattools import adfuller\n",
    "adfuller_result = adfuller(df1['Total number of license issued'])\n",
    "adfuller_result"
   ]
  },
  {
   "cell_type": "code",
   "execution_count": 14,
   "id": "34594327",
   "metadata": {},
   "outputs": [
    {
     "name": "stdout",
     "output_type": "stream",
     "text": [
      "p-value: 0.5830208277704558\n"
     ]
    }
   ],
   "source": [
    "print('p-value:',adfuller_result[1])"
   ]
  },
  {
   "cell_type": "markdown",
   "id": "932b91a9",
   "metadata": {},
   "source": [
    "###### Time series is not Stationary because p-value is greater than 0.05"
   ]
  },
  {
   "cell_type": "markdown",
   "id": "c4c83c27",
   "metadata": {},
   "source": [
    "### Now, we Have to convert Non-Stationary data to Stationary Data"
   ]
  },
  {
   "cell_type": "markdown",
   "id": "843fd548",
   "metadata": {},
   "source": [
    "###  Differencing"
   ]
  },
  {
   "cell_type": "code",
   "execution_count": 15,
   "id": "694d7d26",
   "metadata": {},
   "outputs": [
    {
     "name": "stdout",
     "output_type": "stream",
     "text": [
      "p-value of adf test: 0.0004524129342521125\n"
     ]
    }
   ],
   "source": [
    "diff = df1['Total number of license issued'] - df1['Total number of license issued'].shift(3)\n",
    "diff.dropna(inplace= True)\n",
    "\n",
    "adfuller_result = adfuller(diff)\n",
    "print('p-value of adf test:',adfuller_result[1])\n"
   ]
  },
  {
   "cell_type": "markdown",
   "id": "7bbb0a06",
   "metadata": {},
   "source": [
    "#### Now Time Series is Stationary "
   ]
  },
  {
   "cell_type": "markdown",
   "id": "94e445dd",
   "metadata": {},
   "source": [
    "### Plot ACF/PACF and find p,d,q parameters"
   ]
  },
  {
   "cell_type": "code",
   "execution_count": 16,
   "id": "e6d6c85b",
   "metadata": {},
   "outputs": [
    {
     "name": "stderr",
     "output_type": "stream",
     "text": [
      "C:\\Users\\Dhananjay\\anaconda3\\lib\\site-packages\\statsmodels\\graphics\\tsaplots.py:348: FutureWarning: The default method 'yw' can produce PACF values outside of the [-1,1] interval. After 0.13, the default will change tounadjusted Yule-Walker ('ywm'). You can use this method now by setting method='ywm'.\n",
      "  warnings.warn(\n"
     ]
    },
    {
     "data": {
      "image/png": "[encoded data removed]",
      "text/plain": [
       "<Figure size 640x480 with 1 Axes>"
      ]
     },
     "metadata": {},
     "output_type": "display_data"
    },
    {
     "data": {
      "image/png": "[encoded data removed]",
      "text/plain": [
       "<Figure size 640x480 with 1 Axes>"
      ]
     },
     "metadata": {},
     "output_type": "display_data"
    }
   ],
   "source": [
    "from statsmodels.tsa.stattools import acf,pacf\n",
    "import statsmodels.api as sm \n",
    "fig= sm.graphics.tsa.plot_acf(diff, lags=40)\n",
    "fig = sm.graphics.tsa.plot_pacf(diff,lags=40)"
   ]
  },
  {
   "cell_type": "markdown",
   "id": "93b7ac42",
   "metadata": {},
   "source": [
    "From ' acf curve' optimal value of q = 1 and \n",
    "From ' pcf curve' optimal value of p = 1"
   ]
  },
  {
   "cell_type": "markdown",
   "id": "520f26bc",
   "metadata": {},
   "source": [
    "### train test split "
   ]
  },
  {
   "cell_type": "markdown",
   "id": "8b104533",
   "metadata": {},
   "source": [
    "split the data into train(80%) & test(20%)\n",
    "\n",
    "- for time series data, we have use first 80% of records for training & next 20% of records for testing\n",
    "- here 80% = 0.8*202 = 162 records,so first 162 records we have to use for traing"
   ]
  },
  {
   "cell_type": "markdown",
   "id": "b923e5e8",
   "metadata": {},
   "source": [
    "### Note: We should not apply train-test split function, because it divides the data randomly"
   ]
  },
  {
   "cell_type": "code",
   "execution_count": 17,
   "id": "a1cedc8d",
   "metadata": {},
   "outputs": [],
   "source": [
    "y_train = diff[:161]\n",
    "y_test = diff[161:]"
   ]
  },
  {
   "cell_type": "markdown",
   "id": "ba396d7c",
   "metadata": {},
   "source": [
    "#### Build ARIMA Model\n",
    "\n",
    "ARIMA Model is Build by using p,d,q values\n",
    "- p is AR Values ( Determined from PACF Plot ) \n",
    "- d is integration \n",
    "- q is MA Values ( Determined from ACF Plot ) "
   ]
  },
  {
   "cell_type": "markdown",
   "id": "cfbf637e",
   "metadata": {},
   "source": [
    "#### Modelling "
   ]
  },
  {
   "cell_type": "code",
   "execution_count": 18,
   "id": "1a564cea",
   "metadata": {},
   "outputs": [
    {
     "name": "stderr",
     "output_type": "stream",
     "text": [
      "C:\\Users\\Dhananjay\\anaconda3\\lib\\site-packages\\statsmodels\\tsa\\base\\tsa_model.py:471: ValueWarning: An unsupported index was provided and will be ignored when e.g. forecasting.\n",
      "  self._init_dates(dates, freq)\n",
      "C:\\Users\\Dhananjay\\anaconda3\\lib\\site-packages\\statsmodels\\tsa\\base\\tsa_model.py:471: ValueWarning: An unsupported index was provided and will be ignored when e.g. forecasting.\n",
      "  self._init_dates(dates, freq)\n",
      "C:\\Users\\Dhananjay\\anaconda3\\lib\\site-packages\\statsmodels\\tsa\\base\\tsa_model.py:471: ValueWarning: An unsupported index was provided and will be ignored when e.g. forecasting.\n",
      "  self._init_dates(dates, freq)\n"
     ]
    }
   ],
   "source": [
    "from statsmodels.tsa.arima.model import ARIMA\n",
    "model = ARIMA(diff,order=(1,3,1))\n",
    "ARIMA = model.fit()"
   ]
  },
  {
   "cell_type": "markdown",
   "id": "28ddff50",
   "metadata": {},
   "source": [
    "### Prediction"
   ]
  },
  {
   "cell_type": "code",
   "execution_count": 19,
   "id": "7ed691ea",
   "metadata": {},
   "outputs": [
    {
     "name": "stderr",
     "output_type": "stream",
     "text": [
      "C:\\Users\\Dhananjay\\anaconda3\\lib\\site-packages\\statsmodels\\tsa\\base\\tsa_model.py:834: ValueWarning: No supported index is available. Prediction results will be given with an integer index beginning at `start`.\n",
      "  return get_prediction_index(\n"
     ]
    }
   ],
   "source": [
    "ypred_train = ARIMA.predict(start = y_train.index[0],end=y_train.index[-1])\n",
    "ypred_test = ARIMA.predict(start = y_test.index[0],end=y_test.index[-1])"
   ]
  },
  {
   "cell_type": "markdown",
   "id": "77afaa5d",
   "metadata": {},
   "source": [
    "### Evaluation"
   ]
  },
  {
   "cell_type": "code",
   "execution_count": 20,
   "id": "16e54417",
   "metadata": {},
   "outputs": [
    {
     "name": "stdout",
     "output_type": "stream",
     "text": [
      "Train Accuracy  -0.7160422207621666\n",
      "Test Accuracy  -0.6616546253273892\n"
     ]
    }
   ],
   "source": [
    "from sklearn.metrics import r2_score\n",
    "print('Train Accuracy ',r2_score(ypred_train,y_train))\n",
    "print('Test Accuracy ',r2_score(ypred_test,y_test))"
   ]
  },
  {
   "cell_type": "markdown",
   "id": "cce8c87f",
   "metadata": {},
   "source": [
    "### SARIMAX Model"
   ]
  },
  {
   "cell_type": "code",
   "execution_count": 21,
   "id": "fb1c8a2a",
   "metadata": {},
   "outputs": [
    {
     "name": "stderr",
     "output_type": "stream",
     "text": [
      "C:\\Users\\Dhananjay\\anaconda3\\lib\\site-packages\\statsmodels\\tsa\\base\\tsa_model.py:471: ValueWarning: An unsupported index was provided and will be ignored when e.g. forecasting.\n",
      "  self._init_dates(dates, freq)\n",
      "C:\\Users\\Dhananjay\\anaconda3\\lib\\site-packages\\statsmodels\\tsa\\base\\tsa_model.py:471: ValueWarning: An unsupported index was provided and will be ignored when e.g. forecasting.\n",
      "  self._init_dates(dates, freq)\n",
      "C:\\Users\\Dhananjay\\anaconda3\\lib\\site-packages\\statsmodels\\tsa\\statespace\\sarimax.py:1009: UserWarning: Non-invertible starting seasonal moving average Using zeros as starting parameters.\n",
      "  warn('Non-invertible starting seasonal moving average'\n"
     ]
    }
   ],
   "source": [
    "from statsmodels.tsa.statespace.sarimax import SARIMAX\n",
    "model = SARIMAX(diff,seasonal_order=(1,3,1,30))\n",
    "SARIMAX = model.fit()"
   ]
  },
  {
   "cell_type": "markdown",
   "id": "96403359",
   "metadata": {},
   "source": [
    "### Prediction"
   ]
  },
  {
   "cell_type": "code",
   "execution_count": 22,
   "id": "86aafbde",
   "metadata": {},
   "outputs": [
    {
     "name": "stderr",
     "output_type": "stream",
     "text": [
      "C:\\Users\\Dhananjay\\anaconda3\\lib\\site-packages\\statsmodels\\tsa\\base\\tsa_model.py:834: ValueWarning: No supported index is available. Prediction results will be given with an integer index beginning at `start`.\n",
      "  return get_prediction_index(\n"
     ]
    }
   ],
   "source": [
    "ypred_train = SARIMAX.predict(start=y_train.index[0],end=y_train.index[-1])\n",
    "ypred_test = SARIMAX.predict(start=y_test.index[0],end=y_test.index[-1])"
   ]
  },
  {
   "cell_type": "markdown",
   "id": "f9efe42b",
   "metadata": {},
   "source": [
    "### Evaluation"
   ]
  },
  {
   "cell_type": "code",
   "execution_count": 23,
   "id": "04f809fe",
   "metadata": {},
   "outputs": [
    {
     "name": "stdout",
     "output_type": "stream",
     "text": [
      "Train R2 of SARIMAX model  -0.10804366637543716\n",
      "Test R2 of SARIMAX model  -0.5681831840578002\n"
     ]
    }
   ],
   "source": [
    "from sklearn.metrics import r2_score\n",
    "print('Train R2 of SARIMAX model ',r2_score(ypred_train,y_train))\n",
    "print('Test R2 of SARIMAX model ',r2_score(ypred_test,y_test))"
   ]
  },
  {
   "cell_type": "markdown",
   "id": "a765a997",
   "metadata": {},
   "source": [
    "### RRN"
   ]
  },
  {
   "cell_type": "code",
   "execution_count": null,
   "id": "99607bf1",
   "metadata": {},
   "outputs": [],
   "source": []
  },
  {
   "cell_type": "code",
   "execution_count": null,
   "id": "fb91c434",
   "metadata": {},
   "outputs": [],
   "source": []
  },
  {
   "cell_type": "code",
   "execution_count": null,
   "id": "cea5bf19",
   "metadata": {},
   "outputs": [],
   "source": []
  },
  {
   "cell_type": "code",
   "execution_count": null,
   "id": "2c5575cc",
   "metadata": {},
   "outputs": [],
   "source": []
  },
  {
   "cell_type": "code",
   "execution_count": null,
   "id": "fdca8f9f",
   "metadata": {},
   "outputs": [],
   "source": []
  }
 ],
 "metadata": {
  "kernelspec": {
   "display_name": "Python 3 (ipykernel)",
   "language": "python",
   "name": "python3"
  },
  "language_info": {
   "codemirror_mode": {
    "name": "ipython",
    "version": 3
   },
   "file_extension": ".py",
   "mimetype": "text/x-python",
   "name": "python",
   "nbconvert_exporter": "python",
   "pygments_lexer": "ipython3",
   "version": "3.9.13"
  }
 },
 "nbformat": 4,
 "nbformat_minor": 5
}
